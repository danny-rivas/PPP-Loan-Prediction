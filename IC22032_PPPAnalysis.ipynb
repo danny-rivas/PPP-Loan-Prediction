{
 "cells": [
  {
   "cell_type": "markdown",
   "id": "96f9624d-59e7-48ee-a188-81889ac8e367",
   "metadata": {},
   "source": [
    "# PPP Loan Analysis\n",
    "Team 22032: Danny Rivas, Javan Reuto\n",
    "\n",
    "Date: 03/05/22\n",
    "\n",
    "---"
   ]
  },
  {
   "cell_type": "code",
   "execution_count": 61,
   "id": "7810f252",
   "metadata": {},
   "outputs": [],
   "source": [
    "import pandas as pd\n",
    "import numpy as np\n",
    "from numpy import nan\n",
    "import re\n",
    "import datetime as dt"
   ]
  },
  {
   "cell_type": "markdown",
   "id": "9b5246d4",
   "metadata": {},
   "source": [
    "Before we begin, here is an overview what we'll cover:\n",
    "* [**Part One: Data Preparation**](#part01)\n",
    "    * [Load the Data](#load)\n",
    "    * [Data Cleaning](#clean)\n",
    "* [**Part Two: Analysis**](#part02)\n",
    "* [**Part Three: Prediction**](#part03)"
   ]
  },
  {
   "cell_type": "markdown",
   "id": "8e72df82",
   "metadata": {},
   "source": [
    "## Part One: Data Preparation <a class=\"anchor\" id=\"part01\"></a>"
   ]
  },
  {
   "cell_type": "markdown",
   "id": "e863f1a0",
   "metadata": {},
   "source": [
    "### Load the Data <a class=\"anchor\" id=\"load\"></a>"
   ]
  },
  {
   "cell_type": "code",
   "execution_count": 6,
   "id": "05750c5c",
   "metadata": {},
   "outputs": [],
   "source": [
    "# Load files as dataframe\n",
    "ga_full_df = pd.read_csv('ppp_applicants_ga_full.csv')\n",
    "ga_removed_df = pd.read_excel('ppp-removed-ga.xlsx')"
   ]
  },
  {
   "cell_type": "markdown",
   "id": "dbc34791-7b58-497a-b19b-9c1e06eb0cd4",
   "metadata": {},
   "source": [
    "### Data Cleaning <a class=\"anchor\" id=\"clean\"></a>"
   ]
  },
  {
   "cell_type": "code",
   "execution_count": 7,
   "id": "7db7d24b-9af1-4628-9542-e6a429193a04",
   "metadata": {},
   "outputs": [],
   "source": [
    "# Creating function to clean dataframes - cleaner\n",
    "def cleaner(dataframe):\n",
    "    \n",
    "    # Creating nested function to format string columns\n",
    "    def uppercase_columns(df, column):\n",
    "        df[column] = df[column].str.upper()\n",
    "        return df\n",
    "    \n",
    "    # Invoking functions\n",
    "    dataframe = uppercase_columns(dataframe, 'name')\n",
    "    dataframe = uppercase_columns(dataframe, 'address')\n",
    "    dataframe = uppercase_columns(dataframe, 'city')\n",
    "    dataframe = uppercase_columns(dataframe, 'business_type')\n",
    "    dataframe = uppercase_columns(dataframe, 'loan_status')\n",
    "    dataframe = uppercase_columns(dataframe, 'lender')\n",
    "    dataframe = uppercase_columns(dataframe, 'servicing_lender_name')\n",
    "    dataframe = uppercase_columns(dataframe, 'servicing_lender_address')\n",
    "    dataframe = uppercase_columns(dataframe, 'servicing_lender_city')\n",
    "    dataframe = uppercase_columns(dataframe, 'business_age_description')\n",
    "    dataframe = uppercase_columns(dataframe, 'project_city')\n",
    "    dataframe = uppercase_columns(dataframe, 'project_county_name')\n",
    "    dataframe = uppercase_columns(dataframe, 'originating_lender_city')\n",
    "    \n",
    "    # Creating nested function to format dates\n",
    "    def format_date(df, column):\n",
    "        df[column] = pd.to_datetime(df[column], format=\"%Y-%m-%d\")\n",
    "        return df\n",
    "    \n",
    "    # Invoking format_date function to date columns\n",
    "    dataframe = format_date(dataframe,'date_approved')\n",
    "    dataframe = format_date(dataframe,'loan_status_date')\n",
    "    dataframe = format_date(dataframe,'forgiveness_date')\n",
    "    \n",
    "    # Set loan number as index\n",
    "    dataframe = dataframe.set_index('loan_number')\n",
    "    \n",
    "    # Return dataframe\n",
    "    return dataframe\n"
   ]
  },
  {
   "cell_type": "code",
   "execution_count": 8,
   "id": "cf3496cb-7843-4e64-8b67-cb444e7768a8",
   "metadata": {},
   "outputs": [],
   "source": [
    "# Invoking function on dataframes that were loaded\n",
    "ga_full_df = cleaner(ga_full_df)\n",
    "ga_removed_df = cleaner(ga_removed_df)\n"
   ]
  },
  {
   "cell_type": "markdown",
   "id": "aea8b490",
   "metadata": {},
   "source": [
    "## Part Two: Analysis <a class=\"anchor\" id=\"part02\"></a>"
   ]
  },
  {
   "cell_type": "markdown",
   "id": "91895fe6",
   "metadata": {},
   "source": [
    "## Part Three: Prediction <a class=\"anchor\" id=\"part03\"></a>"
   ]
  }
 ],
 "metadata": {
  "kernelspec": {
   "display_name": "Python 3 (ipykernel)",
   "language": "python",
   "name": "python3"
  },
  "language_info": {
   "codemirror_mode": {
    "name": "ipython",
    "version": 3
   },
   "file_extension": ".py",
   "mimetype": "text/x-python",
   "name": "python",
   "nbconvert_exporter": "python",
   "pygments_lexer": "ipython3",
   "version": "3.9.7"
  }
 },
 "nbformat": 4,
 "nbformat_minor": 5
}
