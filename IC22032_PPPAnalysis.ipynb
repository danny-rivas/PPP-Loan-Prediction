{
 "cells": [
  {
   "cell_type": "markdown",
   "id": "96f9624d-59e7-48ee-a188-81889ac8e367",
   "metadata": {},
   "source": [
    "# PPP Loan Analysis\n",
    "Team 22032: Danny Rivas, Javan Reuto\n",
    "\n",
    "Date: 03/05/22\n",
    "\n",
    "---"
   ]
  },
  {
   "cell_type": "markdown",
   "id": "1290c300",
   "metadata": {},
   "source": [
    "First we begin, we'll first import libraries we will be using. "
   ]
  },
  {
   "cell_type": "code",
   "execution_count": 1,
   "id": "7810f252",
   "metadata": {},
   "outputs": [],
   "source": [
    "import pandas as pd\n",
    "import numpy as np\n",
    "from numpy import nan\n",
    "import re\n",
    "import datetime as dt\n",
    "import time"
   ]
  },
  {
   "cell_type": "markdown",
   "id": "9b5246d4",
   "metadata": {},
   "source": [
    "Here is an overview what we'll cover:\n",
    "* [**Part One: Data Preparation**](#part01)\n",
    "    * [Load the Data](#load-the-data)\n",
    "    * [Data Cleaning](#data-cleaning)\n",
    "    * [Location Cleaning](#location-cleaning)\n",
    "    * [Combining & Removing Duplicates](#combining--removing-duplicates)\n",
    "* [**Part Two: Analysis**](#part02)\n",
    "    * [Defining Characteristics Of Removed Loans](#defining-characteristics-of-removed-loans)\n",
    "    * [Removed Loans Versus All Loans](#removed-loans-versus-all-loans)\n",
    "* [**Part Three: Prediction**](#part03)"
   ]
  },
  {
   "cell_type": "markdown",
   "id": "8e72df82",
   "metadata": {},
   "source": [
    "## Part One: Data Preparation <a class=\"anchor\" id=\"part01\"></a>"
   ]
  },
  {
   "cell_type": "markdown",
   "id": "e863f1a0",
   "metadata": {},
   "source": [
    "### Load the Data <a class=\"anchor\" id=\"load-the-data\"></a>"
   ]
  },
  {
   "cell_type": "code",
   "execution_count": 2,
   "id": "05750c5c",
   "metadata": {},
   "outputs": [],
   "source": [
    "# Load files as dataframe\n",
    "ga_full_df = pd.read_csv('ppp_applicants_ga_full.csv')\n",
    "ga_removed_df = pd.read_excel('ppp-removed-ga.xlsx')"
   ]
  },
  {
   "cell_type": "markdown",
   "id": "dbc34791-7b58-497a-b19b-9c1e06eb0cd4",
   "metadata": {},
   "source": [
    "### Data Cleaning <a class=\"anchor\" id=\"data-cleaning\"></a>"
   ]
  },
  {
   "cell_type": "code",
   "execution_count": 3,
   "id": "7db7d24b-9af1-4628-9542-e6a429193a04",
   "metadata": {},
   "outputs": [],
   "source": [
    "# Creating function to clean dataframes - cleaner\n",
    "def cleaner(dataframe):\n",
    "    \n",
    "    # Creating nested function to format string columns\n",
    "    def uppercase_columns(df, column):\n",
    "        df[column] = df[column].str.upper()\n",
    "        return df\n",
    "    \n",
    "    # Invoking functions\n",
    "    dataframe = uppercase_columns(dataframe, 'name')\n",
    "    dataframe = uppercase_columns(dataframe, 'address')\n",
    "    dataframe = uppercase_columns(dataframe, 'city')\n",
    "    dataframe = uppercase_columns(dataframe, 'business_type')\n",
    "    dataframe = uppercase_columns(dataframe, 'loan_status')\n",
    "    dataframe = uppercase_columns(dataframe, 'lender')\n",
    "    dataframe = uppercase_columns(dataframe, 'servicing_lender_name')\n",
    "    dataframe = uppercase_columns(dataframe, 'servicing_lender_address')\n",
    "    dataframe = uppercase_columns(dataframe, 'servicing_lender_city')\n",
    "    dataframe = uppercase_columns(dataframe, 'business_age_description')\n",
    "    dataframe = uppercase_columns(dataframe, 'project_city')\n",
    "    dataframe = uppercase_columns(dataframe, 'project_county_name')\n",
    "    dataframe = uppercase_columns(dataframe, 'originating_lender_city')\n",
    "    \n",
    "    # Creating nested function to format dates\n",
    "    def format_date(df, column):\n",
    "        df[column] = pd.to_datetime(df[column], format=\"%Y-%m-%d\")\n",
    "        return df\n",
    "    \n",
    "    # Invoking format_date function to date columns\n",
    "    dataframe = format_date(dataframe,'date_approved')\n",
    "    dataframe = format_date(dataframe,'loan_status_date')\n",
    "    dataframe = format_date(dataframe,'forgiveness_date')\n",
    "\n",
    "    def standard_zip(df,zip_col):\n",
    "        df[zip_col] = df[zip_col].str[:5]\n",
    "        return df\n",
    "\n",
    "    dataframe = standard_zip(dataframe,'zip')\n",
    "    dataframe = standard_zip(dataframe, 'servicing_lender_zip')\n",
    "    dataframe = standard_zip(dataframe, 'project_zip')\n",
    "\n",
    "    # Set loan number as index\n",
    "    dataframe = dataframe.set_index('loan_number')\n",
    "    \n",
    "    # Return dataframe\n",
    "    return dataframe\n",
    "\n",
    "# Invoke function on dataframes\n",
    "ga_full_df = cleaner(ga_full_df)\n",
    "ga_removed_df = cleaner(ga_removed_df)\n"
   ]
  },
  {
   "cell_type": "code",
   "execution_count": 4,
   "id": "d4be2466",
   "metadata": {},
   "outputs": [],
   "source": [
    "# Adding dummy variable for removed dataset\n",
    "ga_full_df[\"Removed\"] = 0\n",
    "ga_removed_df[\"Removed\"] = 1\n",
    "\n",
    "#Combining both datasets in ga_df\n",
    "ga_df = pd.concat([ga_full_df, ga_removed_df])"
   ]
  },
  {
   "cell_type": "markdown",
   "id": "4d34db11",
   "metadata": {},
   "source": [
    "### Location Cleaning <a class=\"anchor\" id=\"location-cleaning\"></a>"
   ]
  },
  {
   "cell_type": "code",
   "execution_count": 5,
   "id": "cf3496cb-7843-4e64-8b67-cb444e7768a8",
   "metadata": {},
   "outputs": [
    {
     "name": "stdout",
     "output_type": "stream",
     "text": [
      "city standardized in 12.47 seconds.\n",
      "servicing_lender_city standardized in 12.34 seconds.\n",
      "project_city standardized in 12.46 seconds.\n"
     ]
    }
   ],
   "source": [
    "\n",
    "# Create function to clean city names and zip codes\n",
    "def standard_city(df, zip_col, city_col):\n",
    "    start = time.process_time() #Start timer\n",
    "    city_dict = dict(zip(df[zip_col], df[city_col])) # Create dictionary\n",
    "    df[city_col] = df[zip_col] \n",
    "    df[city_col] = df[city_col].replace(city_dict) # Replace city values with name from dictionary\n",
    "    print(f\"{city_col} standardized in {(time.process_time() - start):.2f} seconds.\") # End timer\n",
    "    return df\n",
    "\n",
    "# Invoking function on all our zip codes and cities\n",
    "ga_df = standard_city(ga_df,'zip', 'city')\n",
    "ga_df = standard_city(ga_df, 'servicing_lender_zip','servicing_lender_city')\n",
    "ga_df = standard_city(ga_df, 'project_zip', 'project_city')\n"
   ]
  },
  {
   "cell_type": "code",
   "execution_count": 6,
   "id": "07958cd6",
   "metadata": {},
   "outputs": [
    {
     "name": "stderr",
     "output_type": "stream",
     "text": [
      "/var/folders/s9/wy2hq96d67x4vmq_tdh3c8tw0000gn/T/ipykernel_28323/1446907246.py:3: UserWarning: Boolean Series key will be reindexed to match DataFrame index.\n",
      "  df=ga_df.sort_values(by=zip_col,ascending=False)[df[zip_col].notna()]\n"
     ]
    },
    {
     "name": "stdout",
     "output_type": "stream",
     "text": [
      "zip cleaned in 10.68 seconds.\n",
      "servicing_lender_zip cleaned in 11.15 seconds.\n",
      "project_zip cleaned in 10.74 seconds.\n"
     ]
    }
   ],
   "source": [
    "#Creating function to build zip code dictionary\n",
    "def zip_dictionary(df, zip_col, city_col):\n",
    "    df=ga_df.sort_values(by=zip_col,ascending=False)[df[zip_col].notna()]\n",
    "    zip_dict = dict(zip(df[city_col], df[zip_col]))\n",
    "    return zip_dict\n",
    "#Creating dictionary for each zip code\n",
    "zip_dict1 = zip_dictionary(ga_df,'zip','city')\n",
    "zip_dict2 = zip_dictionary(ga_df, 'servicing_lender_zip','servicing_lender_city')\n",
    "zip_dict3 = zip_dictionary(ga_df, 'project_zip', 'project_city')\n",
    "\n",
    "#Combining zip code dictionaries\n",
    "zip_dict = zip_dict1 | zip_dict2 | zip_dict3\n",
    "\n",
    "#Create function that replaces zip code with key from zip code dictionary\n",
    "def zip_clean(df, zip_col, city_col):\n",
    "    start = time.process_time() #Start timer\n",
    "    df[zip_col] = df[city_col]\n",
    "    df[zip_col] = df[zip_col].replace(zip_dict)\n",
    "    print(f\"{zip_col} cleaned in {(time.process_time() - start):.2f} seconds.\") # End timer\n",
    "    return df\n",
    "\n",
    "#Invoking function on all our zip codes\n",
    "ga_df = zip_clean(ga_df,'zip', 'city')\n",
    "ga_df = zip_clean(ga_df, 'servicing_lender_zip','servicing_lender_city')\n",
    "ga_df = zip_clean(ga_df, 'project_zip', 'project_city')\n",
    "\n"
   ]
  },
  {
   "cell_type": "markdown",
   "id": "20bbc1c3",
   "metadata": {},
   "source": [
    "### Adjusting Null Values"
   ]
  },
  {
   "cell_type": "code",
   "execution_count": 10,
   "id": "ac43a0f5",
   "metadata": {},
   "outputs": [],
   "source": [
    "ga_df[\"name\"].fillna(\"NAME UNAVAILABLE\", inplace = True)\n",
    "ga_df[\"address\"].fillna(\"ADDRESS UNAVAILABLE\", inplace = True)\n",
    "ga_df[\"naics_code\"].fillna(81, inplace = True)\n",
    "ga_df[\"business_type\"].fillna(\"OTHER\", inplace = True)\n",
    "ga_df[\"undisbursed_amount\"].fillna(0, inplace = True) \n",
    "ga_df[\"forgiveness_amount\"].fillna(0, inplace = True)\n"
   ]
  },
  {
   "cell_type": "markdown",
   "id": "c83c8091",
   "metadata": {},
   "source": [
    "### Combining & Removing Duplicates <a class=\"anchor\" id=\"combining--removing-duplicates\"></a>"
   ]
  },
  {
   "cell_type": "code",
   "execution_count": 11,
   "id": "8ac32786-4705-48e7-8da9-64334a7c0266",
   "metadata": {},
   "outputs": [],
   "source": [
    "# Sorting by index\n",
    "ga_df = ga_df.sort_index()\n",
    "\n",
    "# Removing any duplicates based on index: loan number\n",
    "ga_df = ga_df[~ga_df.index.duplicated(keep='first')]\n",
    "\n",
    "# Updating dataframes \n",
    "ga_full_df = ga_df[ga_df[\"Removed\"] == 0]\n",
    "ga_removed_df = ga_df[ga_df[\"Removed\"] == 1]\n",
    "\n"
   ]
  },
  {
   "cell_type": "markdown",
   "id": "aea8b490",
   "metadata": {},
   "source": [
    "## Part Two: Analysis <a class=\"anchor\" id=\"part02\"></a>"
   ]
  },
  {
   "cell_type": "markdown",
   "id": "eec2b09b",
   "metadata": {},
   "source": [
    "### Defining Characteristics Of Removed Loans <a class=\"anchor\" id=\"defining-characteristics-of-removed-loans\"></a>"
   ]
  },
  {
   "cell_type": "markdown",
   "id": "94e28bb7",
   "metadata": {},
   "source": [
    "### Removed Loans Versus All Loans <a class=\"anchor\" id=\"removed-loans-versus-all-loans\"></a>"
   ]
  },
  {
   "cell_type": "markdown",
   "id": "91895fe6",
   "metadata": {},
   "source": [
    "## Part Three: Prediction <a class=\"anchor\" id=\"part03\"></a>"
   ]
  }
 ],
 "metadata": {
  "kernelspec": {
   "display_name": "Python 3 (ipykernel)",
   "language": "python",
   "name": "python3"
  },
  "language_info": {
   "codemirror_mode": {
    "name": "ipython",
    "version": 3
   },
   "file_extension": ".py",
   "mimetype": "text/x-python",
   "name": "python",
   "nbconvert_exporter": "python",
   "pygments_lexer": "ipython3",
   "version": "3.9.7"
  }
 },
 "nbformat": 4,
 "nbformat_minor": 5
}
